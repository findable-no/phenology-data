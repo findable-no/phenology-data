{
 "cells": [
  {
   "cell_type": "code",
   "execution_count": 4,
   "metadata": {},
   "outputs": [],
   "source": [
    "import pandas as pd\n",
    "import io\n",
    "import base64\n",
    "from PIL import Image\n",
    "import matplotlib.pyplot as plt\n",
    "import io\n",
    "from PIL import Image\n",
    "from IPython.display import display\n",
    "from typing import Optional\n",
    "import os"
   ]
  },
  {
   "cell_type": "code",
   "execution_count": 5,
   "metadata": {},
   "outputs": [],
   "source": [
    "df = pd.read_pickle(\"data/phenology_df.pkl\")"
   ]
  },
  {
   "cell_type": "code",
   "execution_count": 6,
   "metadata": {},
   "outputs": [],
   "source": [
    "\n",
    "def plot_image(image_data):\n",
    "    import io\n",
    "    from PIL import Image\n",
    "\n",
    "\n",
    "    # Create a BytesIO object from the binary data\n",
    "    image_stream = io.BytesIO(image_data)\n",
    "\n",
    "    # Open and show the image\n",
    "    try:\n",
    "        # Open the image using PIL\n",
    "        img = Image.open(image_stream)\n",
    "        \n",
    "        # Save the image to a file\n",
    "        img.save('output_image.png')\n",
    "        \n",
    "        # Display the image (this will open it in your default image viewer)\n",
    "        img.show()\n",
    "    except Exception as e:\n",
    "        print(f\"Error processing image: {e}\")\n",
    "\n",
    "def display_image(image_data):\n",
    "\n",
    "\n",
    "    # Create BytesIO object from the binary data\n",
    "    image_stream = io.BytesIO(image_data)\n",
    "    img = Image.open(image_stream)\n",
    "\n",
    "    # Display directly in the notebook\n",
    "    display(img)\n",
    "\n",
    "\n",
    "def display_images(image_datas, text: Optional[str] = None):\n",
    "    # Display multiple images\n",
    "    if not text:\n",
    "        text = [\"\"] * len(image_datas)\n",
    "    for image_data, text in zip(image_datas, text):\n",
    "        # Create BytesIO object from the binary data\n",
    "        image_stream = io.BytesIO(image_data)\n",
    "        img = Image.open(image_stream)\n",
    "        # Display directly in the notebook\n",
    "        print(text)\n",
    "        display(img)\n",
    "\n",
    "def get_pil_image(image_bytes):\n",
    "    image_stream = io.BytesIO(image_bytes)\n",
    "    return Image.open(image_stream)"
   ]
  },
  {
   "cell_type": "code",
   "execution_count": 7,
   "metadata": {},
   "outputs": [],
   "source": [
    "# TODO cols to look at: location_image, county_image, position_image, percentage_of_unripe_wheat_image (some have perceentage)"
   ]
  },
  {
   "cell_type": "code",
   "execution_count": null,
   "metadata": {},
   "outputs": [],
   "source": [
    "# TODO remove after look into converted dataset\n",
    "\n",
    "\"\"\"\n",
    "NOTE \n",
    "Finetune qwen to extract phenology data\n",
    "\"\"\"\n",
    "# !pip install unsloth\n",
    "from qwen_helper_funcs import inference\n",
    "from constants import SYSTEM_PROMPT\n",
    "import pandas as pd\n",
    "import numpy as np\n",
    "from tqdm import tqdm\n",
    "from helper_funcs import display_image\n",
    "from unsloth import FastVisionModel # FastLanguageModel for LLMs\n",
    "import torch\n",
    "from unsloth import is_bf16_supported\n",
    "from unsloth.trainer import UnslothVisionDataCollator\n",
    "from trl import SFTTrainer, SFTConfig\n",
    "from datasets import load_dataset\n",
    "from datetime import datetime\n",
    "from prepare_data_qwen import prepare_dataset, make_labelled_df\n",
    "# from PIL import Image as PILImage\n",
    "from constants import SYSTEM_PROMPT\n",
    "import pandas as pd\n",
    "# NOTE the 7 always consists of a horizontal line\n",
    "\n",
    "DATASET_PATH = \"data/df_labelled_all.pkl\" \n",
    "\n",
    "\n",
    "\n",
    "train_columns = [\n",
    "    \"coltsfoot_flowering\",\n",
    "    \"coltsfoot_fruit\",\n",
    "    \"wheat_maturing_time\",\n",
    "    \"sowtime_wheat\",\n",
    "    \"sowtime_barley\",\n",
    "    \"liverleaf_fruit\",\n",
    "    \"wood_anemone_flowering\",\n",
    "    \"oats_maturing_time\",\n",
    "    \"barley_maturing_time\",\n",
    "    \"wheat_ripe_for_harvesting\",\n",
    "    \"meadowsweet_timespan\",\n",
    "    \"heather_flowering\",\n",
    "    \"heather_timespan\",\n",
    "    \"hazel_greenup\",\n",
    "    \"hazel_greenup_timespan\",\n",
    "    \"hazel_flowering\",\n",
    "    \"hazel_start_ripening\",\n",
    "    \"hazel_flowering_timespan\",\n",
    "    \"hazel_start_senescence\",\n",
    "    \"hazel_start_leaffall\",\n",
    "    \"hazel_end_leaffall\", \n",
    "    \"grey_alder_greenup\", \n",
    "    \"grey_alder_greenup_timespan\",\n",
    "    \"grey_alder_flowering\", \n",
    "    \"grey_alder_start_ripening\", \n",
    "    \"grey_alder_flowering_timespan\", \n",
    "    \"grey_alder_start_senescence\"\n",
    "]\n",
    "\n",
    "all_columns = train_columns \n",
    "make_labelled_df(all_columns)\n",
    "\n",
    "\n",
    "df = pd.read_pickle(DATASET_PATH)\n",
    "\n",
    "\n",
    "# df[train_columns[4] + \"_image\"].tolist()[:3]\n"
   ]
  },
  {
   "cell_type": "markdown",
   "metadata": {},
   "source": [
    "### Normal labeling"
   ]
  },
  {
   "cell_type": "code",
   "execution_count": 9,
   "metadata": {},
   "outputs": [],
   "source": [
    "COLUMN = \"average_height_where_leafout_at_the_treeline_is_measured\""
   ]
  },
  {
   "cell_type": "code",
   "execution_count": 10,
   "metadata": {},
   "outputs": [],
   "source": [
    "df = pd.read_pickle(\"data/phenology_df.pkl\")"
   ]
  },
  {
   "cell_type": "code",
   "execution_count": 11,
   "metadata": {},
   "outputs": [],
   "source": [
    "a = df[COLUMN].values\n",
    "\n"
   ]
  },
  {
   "cell_type": "code",
   "execution_count": null,
   "metadata": {},
   "outputs": [],
   "source": [
    "labels_path = f\"labels/label_{COLUMN}.txt\"\n",
    "if os.path.exists(labels_path):\n",
    "    print(f\"Path {labels_path} exists\")\n",
    "else:\n",
    "    with open(labels_path, \"w\") as f:\n",
    "        for value in df[COLUMN].values:\n",
    "            f.write(value + \"\\n\")"
   ]
  },
  {
   "cell_type": "code",
   "execution_count": 13,
   "metadata": {},
   "outputs": [],
   "source": [
    "idx = 0\n",
    "batch_size = 10"
   ]
  },
  {
   "cell_type": "code",
   "execution_count": 14,
   "metadata": {},
   "outputs": [],
   "source": [
    "# idx-=20\n",
    "# idx = 230"
   ]
  },
  {
   "cell_type": "code",
   "execution_count": null,
   "metadata": {},
   "outputs": [],
   "source": [
    "a, b = df[COLUMN].values[idx], df[f\"{COLUMN}_image\"].values[idx:idx+batch_size]\n",
    "texts = [f\"line {i+1}\" for i in range(idx, idx+batch_size)]\n",
    "display_images(b, texts)\n",
    "# print(\"IDX\", idx)\n",
    "idx += batch_size"
   ]
  },
  {
   "cell_type": "code",
   "execution_count": null,
   "metadata": {},
   "outputs": [],
   "source": []
  },
  {
   "cell_type": "markdown",
   "metadata": {},
   "source": [
    "### Grouping"
   ]
  },
  {
   "cell_type": "code",
   "execution_count": 19,
   "metadata": {},
   "outputs": [],
   "source": [
    "# NOTE lookin at blank labels (and their image)\n",
    "# first load all images we have labels for\n"
   ]
  },
  {
   "cell_type": "code",
   "execution_count": 20,
   "metadata": {},
   "outputs": [],
   "source": [
    "train_columns = [\n",
    "    \"coltsfoot_flowering\",\n",
    "    \"coltsfoot_fruit\",\n",
    "    \"wheat_maturing_time\",\n",
    "    \"sowtime_wheat\",\n",
    "    \"sowtime_barley\",\n",
    "    \"liverleaf_fruit\",\n",
    "    \"wood_anemone_flowering\",\n",
    "    \"oats_maturing_time\",\n",
    "    \"barley_maturing_time\",\n",
    "    \"wheat_ripe_for_harvesting\",\n",
    "    \"meadowsweet_timespan\",\n",
    "    \"heather_flowering\",\n",
    "    \"heather_timespan\",\n",
    "    \"hazel_greenup\",\n",
    "    \"hazel_greenup_timespan\",\n",
    "    \"hazel_flowering\",\n",
    "    \"hazel_start_ripening\",\n",
    "    \"hazel_flowering_timespan\",\n",
    "    \"hazel_start_senescence\",\n",
    "    \"hazel_start_leaffall\",\n",
    "    \"hazel_end_leaffall\", \n",
    "    \"grey_alder_greenup\", \n",
    "    \"grey_alder_greenup_timespan\"\n",
    "]\n",
    "\n",
    "test_columns = [\n",
    "    \"grey_alder_flowering\", \n",
    "    \"grey_alder_start_ripening\", \n",
    "    \"grey_alder_flowering_timespan\", \n",
    "    \"grey_alder_start_senescence\"\n",
    "]"
   ]
  },
  {
   "cell_type": "code",
   "execution_count": null,
   "metadata": {},
   "outputs": [],
   "source": [
    "all_columns = train_columns + test_columns"
   ]
  },
  {
   "cell_type": "code",
   "execution_count": 21,
   "metadata": {},
   "outputs": [],
   "source": [
    "df_labelled = pd.read_pickle(\"data/df_labelled_all.pkl\")"
   ]
  },
  {
   "cell_type": "code",
   "execution_count": 22,
   "metadata": {},
   "outputs": [],
   "source": [
    "image_and_label_columns = [(col + \"_image\", col + \"_labels\") for col in all_columns]"
   ]
  },
  {
   "cell_type": "code",
   "execution_count": 23,
   "metadata": {},
   "outputs": [],
   "source": [
    "all_images = []\n",
    "all_labels = []\n",
    "for img_col, label_col in image_and_label_columns:\n",
    "    all_images.extend(df_labelled[img_col].tolist())\n",
    "    all_labels.extend(df_labelled[label_col].tolist())"
   ]
  },
  {
   "cell_type": "code",
   "execution_count": 247,
   "metadata": {},
   "outputs": [],
   "source": [
    "# TODO here you can select which group of labels you want to look at\n",
    "\n",
    "# blank labels\n",
    "relevant_indices = [i for i, label in enumerate(all_labels) if label == \"\" or label == \"%\"]\n",
    "\n",
    "# brackets\n",
    "# relevant_indices = [i for i, label in enumerate(all_labels) if \"[\" in label or \"]\" in label]\n",
    "\n",
    "# parenthesis\n",
    "# relevant_indices = [i for i, label in enumerate(all_labels) if \"(\" in label or \")\" in label]\n",
    "\n",
    "# where first digit is 7\n",
    "# import re\n",
    "# where first digit is 7\n",
    "# relevant_indices = [i for i, label in enumerate(all_labels) if label and re.match(r'^7\\d+', label)]\n",
    "\n",
    "# where 7 is the last digit\n",
    "# relevant_indices = [i for i, label in enumerate(all_labels) if label and re.match(r'.*7$', label)]\n",
    "\n",
    "# where 7 is the middle digit (has digits before and after)\n",
    "# relevant_indices = [i for i, label in enumerate(all_labels) if label and re.match(r'.*\\d+7\\d+.*', label)]\n",
    "\n",
    "\n",
    "# where string only consists of 1 number (but any number of other chars)\n",
    "# relevant_indices = [i for i, label in enumerate(all_labels) if label and len(re.findall(r'\\d', label)) == 1]\n",
    "\n",
    "\n",
    "# # Find indices where the label contains a number greater than 300\n",
    "# relevant_indices = []\n",
    "# for i, label in enumerate(all_labels):\n",
    "#     # Extract all numbers from the label\n",
    "#     if label:\n",
    "#         numbers = re.findall(r'\\d+', label)\n",
    "#         # Check if any number is greater than 300\n",
    "#         for num in numbers:\n",
    "#             if int(num) > 365:\n",
    "#                 relevant_indices.append(i)\n",
    "#                 break\n",
    "\n",
    "\n",
    "# relevant_indices = [i for i, label in enumerate(all_labels) if \"7\" in label] "
   ]
  },
  {
   "cell_type": "code",
   "execution_count": null,
   "metadata": {},
   "outputs": [],
   "source": [
    "relevant_images = [all_images[i] for i in relevant_indices]\n",
    "relevant_labels = [all_labels[i] for i in relevant_indices]\n",
    "print(len(relevant_images))"
   ]
  },
  {
   "cell_type": "code",
   "execution_count": 280,
   "metadata": {},
   "outputs": [],
   "source": [
    "relevant_idx_to_all_idx = {i: relevant_indices[i] for i in range(len(relevant_indices))}"
   ]
  },
  {
   "cell_type": "code",
   "execution_count": 299,
   "metadata": {},
   "outputs": [],
   "source": [
    "idx = 0\n",
    "batch_size = 3"
   ]
  },
  {
   "cell_type": "code",
   "execution_count": 307,
   "metadata": {},
   "outputs": [
    {
     "name": "stdout",
     "output_type": "stream",
     "text": [
      "label: [79] line 19, \n"
     ]
    },
    {
     "data": {
      "image/jpeg": "[encoded data removed]",
      "image/png": "[encoded data removed]",
      "text/plain": [
       "<PIL.TiffImagePlugin.TiffImageFile image mode=L size=91x57>"
      ]
     },
     "metadata": {},
     "output_type": "display_data"
    },
    {
     "name": "stdout",
     "output_type": "stream",
     "text": [
      "label: [114] line 20, \n"
     ]
    },
    {
     "data": {
      "image/jpeg": "[encoded data removed]",
      "image/png": "[encoded data removed]",
      "text/plain": [
       "<PIL.TiffImagePlugin.TiffImageFile image mode=L size=91x57>"
      ]
     },
     "metadata": {},
     "output_type": "display_data"
    },
    {
     "name": "stdout",
     "output_type": "stream",
     "text": [
      "label: [134] line 21, \n"
     ]
    },
    {
     "data": {
      "image/jpeg": "[encoded data removed]",
      "image/png": "[encoded data removed]",
      "text/plain": [
       "<PIL.TiffImagePlugin.TiffImageFile image mode=L size=91x57>"
      ]
     },
     "metadata": {},
     "output_type": "display_data"
    }
   ],
   "source": [
    "images = relevant_images[idx:idx+batch_size]\n",
    "labels = relevant_labels[idx:idx+batch_size]\n",
    "texts = [f\"label: {relevant_labels[i]} line {i+1}, \" for i in range(idx, idx+batch_size)]\n",
    "idx += batch_size\n",
    "display_images(images, texts)"
   ]
  },
  {
   "cell_type": "code",
   "execution_count": null,
   "metadata": {},
   "outputs": [],
   "source": [
    "# NOTE select ines from iterating through above, this piece of code will tell you which file and line to look at to fix the label\n",
    "lines_to_check = [\n",
    "    12\n",
    "]\n",
    "indices_to_check = [i-1 for i in lines_to_check]\n",
    "# indices_to_check = [\n",
    "#                     95, 97, 186, 193, \n",
    "#                     209, 268,\n",
    "#                     320,331,335,339,340,343,354,356,358,362,364,370,\n",
    "#                     372,381,398,432,439,440,468,471,472,480,486] # NOTE this is idx in relevant_...\n",
    "\n",
    "for idx in indices_to_check:\n",
    "    all_idx = relevant_idx_to_all_idx[idx]\n",
    "    display_image(all_images[all_idx])\n",
    "    print(\"GT: \", all_labels[all_idx])\n",
    "    file_index = all_idx//278\n",
    "    print(all_columns[file_index])\n",
    "    print(\"LINE: \", (all_idx%278)+1)\n",
    "\n",
    "    print(\"\\n---\\n\")"
   ]
  },
  {
   "cell_type": "code",
   "execution_count": null,
   "metadata": {},
   "outputs": [],
   "source": [
    "len(all_images)"
   ]
  },
  {
   "cell_type": "code",
   "execution_count": null,
   "metadata": {},
   "outputs": [],
   "source": []
  },
  {
   "cell_type": "code",
   "execution_count": null,
   "metadata": {},
   "outputs": [],
   "source": []
  },
  {
   "cell_type": "code",
   "execution_count": null,
   "metadata": {},
   "outputs": [],
   "source": []
  },
  {
   "cell_type": "code",
   "execution_count": null,
   "metadata": {},
   "outputs": [],
   "source": [
    "# NOTE look at converted testset"
   ]
  },
  {
   "cell_type": "code",
   "execution_count": null,
   "metadata": {},
   "outputs": [],
   "source": [
    "\"\"\"\n",
    "NOTE \n",
    "Finetune qwen to extract phenology data\n",
    "\"\"\"\n",
    "# !pip install unsloth\n",
    "from qwen_helper_funcs import inference\n",
    "from constants import SYSTEM_PROMPT\n",
    "import pandas as pd\n",
    "import numpy as np\n",
    "from tqdm import tqdm\n",
    "from helper_funcs import display_image\n",
    "from unsloth import FastVisionModel # FastLanguageModel for LLMs\n",
    "import torch\n",
    "from unsloth import is_bf16_supported\n",
    "from unsloth.trainer import UnslothVisionDataCollator\n",
    "from trl import SFTTrainer, SFTConfig\n",
    "from datasets import load_dataset\n",
    "from datetime import datetime\n",
    "from prepare_data_qwen import prepare_dataset, make_labelled_df\n",
    "# from PIL import Image as PILImage\n",
    "from constants import SYSTEM_PROMPT\n",
    "import pandas as pd\n",
    "# NOTE the 7 always consists of a horizontal line\n",
    "\n",
    "# DATASET_PATH = \"data/df_labelled_090425v2.pkl\" # TODO update this\n",
    "# DATASET_PATH = \"data/df_labelled_090425v3.pkl\" \n",
    "# DATASET_PATH = \"data/df_labelled_090425v4.pkl\" \n",
    "DATASET_PATH = \"data/df_labelled_all.pkl\" \n",
    "\n",
    "\n",
    "\n",
    "train_columns = [\n",
    "    \"coltsfoot_flowering\",\n",
    "    \"coltsfoot_fruit\",\n",
    "    \"wheat_maturing_time\",\n",
    "    \"sowtime_wheat\",\n",
    "    \"sowtime_barley\",\n",
    "    \"liverleaf_fruit\",\n",
    "    \"wood_anemone_flowering\",\n",
    "    \"oats_maturing_time\",\n",
    "]\n",
    "\n",
    "test_columns = [\n",
    "    \"barley_maturing_time\",\n",
    "    \"wheat_ripe_for_harvesting\"\n",
    "]\n",
    "\n",
    "\n",
    "\n",
    "all_columns = train_columns + test_columns\n",
    "make_labelled_df(all_columns)\n",
    "\n",
    "converted_dataset = prepare_dataset(DATASET_PATH, SYSTEM_PROMPT, train_columns)\n",
    "converted_dataset_test = prepare_dataset(DATASET_PATH, SYSTEM_PROMPT, test_columns, 1)\n"
   ]
  },
  {
   "cell_type": "code",
   "execution_count": 2,
   "metadata": {},
   "outputs": [],
   "source": [
    "idx = 0\n",
    "batch_size = 5"
   ]
  },
  {
   "cell_type": "code",
   "execution_count": null,
   "metadata": {},
   "outputs": [],
   "source": []
  },
  {
   "cell_type": "code",
   "execution_count": null,
   "metadata": {},
   "outputs": [],
   "source": [
    "for i in range(idx, idx+batch_size):\n",
    "    image = converted_dataset[i][\"messages\"][0][\"content\"][1][\"image\"]\n",
    "    text = converted_dataset[i][\"messages\"][1][\"content\"][0][\"text\"]\n",
    "    print(text)\n",
    "    image.show()\n",
    "    print(\"---\")\n",
    "idx += batch_size\n"
   ]
  },
  {
   "cell_type": "code",
   "execution_count": null,
   "metadata": {},
   "outputs": [],
   "source": [
    "\n",
    "image.show()"
   ]
  },
  {
   "cell_type": "code",
   "execution_count": null,
   "metadata": {},
   "outputs": [],
   "source": []
  },
  {
   "cell_type": "code",
   "execution_count": null,
   "metadata": {},
   "outputs": [],
   "source": []
  },
  {
   "cell_type": "code",
   "execution_count": null,
   "metadata": {},
   "outputs": [],
   "source": []
  },
  {
   "cell_type": "code",
   "execution_count": null,
   "metadata": {},
   "outputs": [],
   "source": []
  },
  {
   "cell_type": "code",
   "execution_count": null,
   "metadata": {},
   "outputs": [],
   "source": []
  },
  {
   "cell_type": "code",
   "execution_count": null,
   "metadata": {},
   "outputs": [],
   "source": []
  },
  {
   "cell_type": "code",
   "execution_count": null,
   "metadata": {},
   "outputs": [],
   "source": []
  },
  {
   "cell_type": "code",
   "execution_count": null,
   "metadata": {},
   "outputs": [],
   "source": []
  },
  {
   "cell_type": "code",
   "execution_count": null,
   "metadata": {},
   "outputs": [],
   "source": []
  },
  {
   "cell_type": "code",
   "execution_count": 59,
   "metadata": {},
   "outputs": [],
   "source": [
    "prompt = \"\"\"\n",
    "        In the image you should see three numbers. Degrees north, degrees east, H and K. \n",
    "        Extract the four numbers and return a dictionary with the keys 'N' (north), 'E' (east), 'H', 'K'. Example output:  '{'N': 59.2, 'E': 10.2, 'H': 10, 'K': 10}\n",
    "        Return ONLY the dictionary, nothing else.\n",
    "        \"\"\""
   ]
  },
  {
   "cell_type": "code",
   "execution_count": 60,
   "metadata": {},
   "outputs": [],
   "source": [
    "from qwen_inference import predict"
   ]
  },
  {
   "cell_type": "code",
   "execution_count": 65,
   "metadata": {},
   "outputs": [],
   "source": [
    "def parse_output(output: str) -> dict:\n",
    "    # Extract the dictionary string from the markdown code block\n",
    "    dict_str = output.split(\"\\n\")[1].strip()\n",
    "    # Remove any markdown code block formatting\n",
    "    dict_str = dict_str.replace(\"```python\\n\", \"\").replace(\"\\n```\", \"\")\n",
    "    # Parse the dictionary string into a Python dict\n",
    "    return eval(dict_str)"
   ]
  },
  {
   "cell_type": "code",
   "execution_count": 113,
   "metadata": {},
   "outputs": [],
   "source": [
    "idx_to_pred = {}"
   ]
  },
  {
   "cell_type": "code",
   "execution_count": null,
   "metadata": {},
   "outputs": [],
   "source": [
    "\n",
    "for idx, image_bytes in enumerate(df[\"position_image\"].values):\n",
    "    image = get_pil_image(image_bytes)\n",
    "    if idx < 154:\n",
    "        continue\n",
    "    if idx in idx_to_pred:\n",
    "        print(f\"Skipping {idx} because it already has a prediction\")\n",
    "        continue\n",
    "    print(f\"Predicting {idx}\")\n",
    "    pred = predict(image, prompt)\n",
    "    idx_to_pred[idx] = pred\n",
    "\n"
   ]
  },
  {
   "cell_type": "code",
   "execution_count": null,
   "metadata": {},
   "outputs": [],
   "source": [
    "for idx in range(0, 154):\n",
    "    output = idx_to_pred[idx]\n",
    "    print(parse_output(output))"
   ]
  },
  {
   "cell_type": "code",
   "execution_count": 110,
   "metadata": {},
   "outputs": [],
   "source": [
    "# save preds to file\n",
    "import json\n",
    "with open(\"preds_location.json\", \"w\") as f:\n",
    "    json.dump(idx_to_pred, f, indent=4)"
   ]
  },
  {
   "cell_type": "code",
   "execution_count": 111,
   "metadata": {},
   "outputs": [],
   "source": [
    "# write to file\n",
    "with open(f\"labels/label_position_new\", \"w\") as f:\n",
    "    for idx in range(len(idx_to_pred)):\n",
    "        output = idx_to_pred[idx]\n",
    "        parsed_output = parse_output(output)\n",
    "        f.write(str(parsed_output))\n",
    "        f.write(\"\\n\")\n"
   ]
  },
  {
   "cell_type": "code",
   "execution_count": 135,
   "metadata": {},
   "outputs": [],
   "source": [
    "idx = 20"
   ]
  },
  {
   "cell_type": "code",
   "execution_count": null,
   "metadata": {},
   "outputs": [],
   "source": [
    "# fix pred errors by going through samples\n",
    "\n",
    "a, b = df[COLUMN].values[idx], df[f\"{COLUMN}_image\"].values[idx:idx+batch_size]\n",
    "texts = [f\"line {i+1}\" for i in range(idx, idx+batch_size)]\n",
    "display_images(b, texts)\n",
    "# print(\"IDX\", idx)\n",
    "idx += batch_size"
   ]
  },
  {
   "cell_type": "markdown",
   "metadata": {},
   "source": [
    "## Check accuracy"
   ]
  },
  {
   "cell_type": "code",
   "execution_count": 174,
   "metadata": {},
   "outputs": [],
   "source": [
    "labels = [\"unknown\" if label == \"\" else label for label in labels]"
   ]
  },
  {
   "cell_type": "code",
   "execution_count": null,
   "metadata": {},
   "outputs": [],
   "source": [
    "num_correct, num_preds = 0, 0\n",
    "for idx, (pred, label) in enumerate(zip(preds, labels)):\n",
    "    num_preds += 1\n",
    "    if pred == label:\n",
    "        num_correct += 1\n",
    "    else:\n",
    "        print(idx, pred, label)\n",
    "\n",
    "print(f\"Accuracy: {num_correct / num_preds}\")\n"
   ]
  },
  {
   "cell_type": "code",
   "execution_count": null,
   "metadata": {},
   "outputs": [],
   "source": [
    "print(\"PRED:  '(107)'\")\n",
    "print(\"LABEL: '107'\")\n",
    "display_image(df[\"coltsfoot_flowering_image\"].values[97])\n"
   ]
  },
  {
   "cell_type": "code",
   "execution_count": null,
   "metadata": {},
   "outputs": [],
   "source": []
  },
  {
   "cell_type": "code",
   "execution_count": null,
   "metadata": {},
   "outputs": [],
   "source": [
    "preds = df[\"coltsfoot_flowering\"].values\n",
    "preds"
   ]
  },
  {
   "cell_type": "code",
   "execution_count": null,
   "metadata": {},
   "outputs": [],
   "source": [
    "# coltsfoot_flowering', 'coltsfoot_flowering_image', 'coltsfoot_fruit', 'coltsfoot_fruit_image', 'coltsfoot_timespan', 'coltsfoot_timespan_image', "
   ]
  }
 ],
 "metadata": {
  "kernelspec": {
   "display_name": "qwenvenv",
   "language": "python",
   "name": "python3"
  },
  "language_info": {
   "codemirror_mode": {
    "name": "ipython",
    "version": 3
   },
   "file_extension": ".py",
   "mimetype": "text/x-python",
   "name": "python",
   "nbconvert_exporter": "python",
   "pygments_lexer": "ipython3",
   "version": "3.12.3"
  }
 },
 "nbformat": 4,
 "nbformat_minor": 2
}
